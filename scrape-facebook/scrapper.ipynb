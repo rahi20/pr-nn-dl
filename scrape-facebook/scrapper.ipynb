{
 "cells": [
  {
   "cell_type": "code",
   "execution_count": null,
   "source": [
    "import tensorflow\n",
    "import beautifulsoup"
   ],
   "outputs": [],
   "metadata": {}
  },
  {
   "cell_type": "markdown",
   "source": [
    "Links : \n",
    "https://www.facebook.com/AmzaziSaaidOfficiel\n",
    "https://www.facebook.com/Elotmanisaad/\n",
    "\n",
    "Les partis marocains : \n",
    "PJD : https://www.facebook.com/PJD.central/\n",
    "Parti d'Istiqlal : https://www.facebook.com/PartiIstiqlalPageOfficiel/\n",
    "Mouvement populaire : https://www.facebook.com/PartiduMouvementPopulaireOfficiel/\n",
    "\n",
    "\n",
    "522088102208511|d5dbb2c322deb7391e4a6ad718ac7c96"
   ],
   "metadata": {}
  }
 ],
 "metadata": {
  "orig_nbformat": 4,
  "language_info": {
   "name": "python",
   "version": "3.8.8"
  },
  "kernelspec": {
   "name": "python3",
   "display_name": "Python 3.8.8 64-bit ('base': conda)"
  },
  "interpreter": {
   "hash": "184aa201dc4fa3afe5df2ab71f75732ba4c0e7618a1d5df1129f5ce704f98945"
  }
 },
 "nbformat": 4,
 "nbformat_minor": 2
}