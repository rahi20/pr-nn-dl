{
 "cells": [
  {
   "cell_type": "code",
   "execution_count": 1,
   "source": [
    "import urllib3\n",
    "import requests\n",
    "import facebook"
   ],
   "outputs": [],
   "metadata": {}
  },
  {
   "cell_type": "code",
   "execution_count": 2,
   "source": [
    "token = 'EAAHa1hvfoZC8BADUxiPfTd6tfWV55JxB7g4SHcVztheauqnKtR9x3LAQWQ0TIrEVqLiXOQWkExjZBgZCNpKSuXCW1CoU6oFfoVd0hzRLUFXuQuCVYLj9KdU2c5VEG6DLRZBtS4sohRwL7wHX9vi1kG5cke9DKjThioNuzhDzLf9GRLBSoD7F8wVi6iTqS0QZD'"
   ],
   "outputs": [],
   "metadata": {}
  },
  {
   "cell_type": "code",
   "execution_count": 9,
   "source": [
    "#graph = facebook.GraphAPI(access_token=token, version = 3.1)\n",
    "#events = graph.request('/search?q=Poetry&type=event&limit=10000')"
   ],
   "outputs": [],
   "metadata": {}
  },
  {
   "cell_type": "code",
   "execution_count": 8,
   "source": [
    "#!curl -i -X GET https://www.facebook.com/Elotmanisaad?access_token=EAAHa1hvfoZC8BADUxiPfTd6tfWV55JxB7g4SHcVztheauqnKtR9x3LAQWQ0TIrEVqLiXOQWkExjZBgZCNpKSuXCW1CoU6oFfoVd0hzRLUFXuQuCVYLj9KdU2c5VEG6DLRZBtS4sohRwL7wHX9vi1kG5cke9DKjThioNuzhDzLf9GRLBSoD7F8wVi6iTqS0QZD"
   ],
   "outputs": [],
   "metadata": {}
  },
  {
   "cell_type": "code",
   "execution_count": 10,
   "source": [
    "app_id = '522088102208511'\n",
    "app_secret = 'd5dbb2c322deb7391e4a6ad718ac7c96'\n",
    "access_token = '{}|{}'.format(app_id, app_secret)\n",
    "\n",
    "graph = facebook.GraphAPI(access_token, version='3.1')"
   ],
   "outputs": [],
   "metadata": {}
  },
  {
   "cell_type": "code",
   "execution_count": 11,
   "source": [
    "posts = graph.get_object('nytimes', fields='posts')"
   ],
   "outputs": [
    {
     "output_type": "error",
     "ename": "GraphAPIError",
     "evalue": "(#100) Object does not exist, cannot be loaded due to missing permission or reviewable feature, or does not support this operation. This endpoint requires the 'pages_read_engagement' permission or the 'Page Public Content Access' feature or the 'Page Public Metadata Access' feature. Refer to https://developers.facebook.com/docs/apps/review/login-permissions#manage-pages, https://developers.facebook.com/docs/apps/review/feature#reference-PAGES_ACCESS and https://developers.facebook.com/docs/apps/review/feature#page-public-metadata-access for details.",
     "traceback": [
      "\u001b[0;31m---------------------------------------------------------------------------\u001b[0m",
      "\u001b[0;31mGraphAPIError\u001b[0m                             Traceback (most recent call last)",
      "\u001b[0;32m<ipython-input-11-f73149cbdacd>\u001b[0m in \u001b[0;36m<module>\u001b[0;34m\u001b[0m\n\u001b[0;32m----> 1\u001b[0;31m \u001b[0mposts\u001b[0m \u001b[0;34m=\u001b[0m \u001b[0mgraph\u001b[0m\u001b[0;34m.\u001b[0m\u001b[0mget_object\u001b[0m\u001b[0;34m(\u001b[0m\u001b[0;34m'nytimes'\u001b[0m\u001b[0;34m,\u001b[0m \u001b[0mfields\u001b[0m\u001b[0;34m=\u001b[0m\u001b[0;34m'posts'\u001b[0m\u001b[0;34m)\u001b[0m\u001b[0;34m\u001b[0m\u001b[0;34m\u001b[0m\u001b[0m\n\u001b[0m",
      "\u001b[0;32m~/anaconda3/lib/python3.8/site-packages/facebook/__init__.py\u001b[0m in \u001b[0;36mget_object\u001b[0;34m(self, id, **args)\u001b[0m\n\u001b[1;32m    124\u001b[0m     \u001b[0;32mdef\u001b[0m \u001b[0mget_object\u001b[0m\u001b[0;34m(\u001b[0m\u001b[0mself\u001b[0m\u001b[0;34m,\u001b[0m \u001b[0mid\u001b[0m\u001b[0;34m,\u001b[0m \u001b[0;34m**\u001b[0m\u001b[0margs\u001b[0m\u001b[0;34m)\u001b[0m\u001b[0;34m:\u001b[0m\u001b[0;34m\u001b[0m\u001b[0;34m\u001b[0m\u001b[0m\n\u001b[1;32m    125\u001b[0m         \u001b[0;34m\"\"\"Fetches the given object from the graph.\"\"\"\u001b[0m\u001b[0;34m\u001b[0m\u001b[0;34m\u001b[0m\u001b[0m\n\u001b[0;32m--> 126\u001b[0;31m         \u001b[0;32mreturn\u001b[0m \u001b[0mself\u001b[0m\u001b[0;34m.\u001b[0m\u001b[0mrequest\u001b[0m\u001b[0;34m(\u001b[0m\u001b[0;34m\"{0}/{1}\"\u001b[0m\u001b[0;34m.\u001b[0m\u001b[0mformat\u001b[0m\u001b[0;34m(\u001b[0m\u001b[0mself\u001b[0m\u001b[0;34m.\u001b[0m\u001b[0mversion\u001b[0m\u001b[0;34m,\u001b[0m \u001b[0mid\u001b[0m\u001b[0;34m)\u001b[0m\u001b[0;34m,\u001b[0m \u001b[0margs\u001b[0m\u001b[0;34m)\u001b[0m\u001b[0;34m\u001b[0m\u001b[0;34m\u001b[0m\u001b[0m\n\u001b[0m\u001b[1;32m    127\u001b[0m \u001b[0;34m\u001b[0m\u001b[0m\n\u001b[1;32m    128\u001b[0m     \u001b[0;32mdef\u001b[0m \u001b[0mget_objects\u001b[0m\u001b[0;34m(\u001b[0m\u001b[0mself\u001b[0m\u001b[0;34m,\u001b[0m \u001b[0mids\u001b[0m\u001b[0;34m,\u001b[0m \u001b[0;34m**\u001b[0m\u001b[0margs\u001b[0m\u001b[0;34m)\u001b[0m\u001b[0;34m:\u001b[0m\u001b[0;34m\u001b[0m\u001b[0;34m\u001b[0m\u001b[0m\n",
      "\u001b[0;32m~/anaconda3/lib/python3.8/site-packages/facebook/__init__.py\u001b[0m in \u001b[0;36mrequest\u001b[0;34m(self, path, args, post_args, files, method)\u001b[0m\n\u001b[1;32m    311\u001b[0m \u001b[0;34m\u001b[0m\u001b[0m\n\u001b[1;32m    312\u001b[0m         \u001b[0;32mif\u001b[0m \u001b[0mresult\u001b[0m \u001b[0;32mand\u001b[0m \u001b[0misinstance\u001b[0m\u001b[0;34m(\u001b[0m\u001b[0mresult\u001b[0m\u001b[0;34m,\u001b[0m \u001b[0mdict\u001b[0m\u001b[0;34m)\u001b[0m \u001b[0;32mand\u001b[0m \u001b[0mresult\u001b[0m\u001b[0;34m.\u001b[0m\u001b[0mget\u001b[0m\u001b[0;34m(\u001b[0m\u001b[0;34m\"error\"\u001b[0m\u001b[0;34m)\u001b[0m\u001b[0;34m:\u001b[0m\u001b[0;34m\u001b[0m\u001b[0;34m\u001b[0m\u001b[0m\n\u001b[0;32m--> 313\u001b[0;31m             \u001b[0;32mraise\u001b[0m \u001b[0mGraphAPIError\u001b[0m\u001b[0;34m(\u001b[0m\u001b[0mresult\u001b[0m\u001b[0;34m)\u001b[0m\u001b[0;34m\u001b[0m\u001b[0;34m\u001b[0m\u001b[0m\n\u001b[0m\u001b[1;32m    314\u001b[0m         \u001b[0;32mreturn\u001b[0m \u001b[0mresult\u001b[0m\u001b[0;34m\u001b[0m\u001b[0;34m\u001b[0m\u001b[0m\n\u001b[1;32m    315\u001b[0m \u001b[0;34m\u001b[0m\u001b[0m\n",
      "\u001b[0;31mGraphAPIError\u001b[0m: (#100) Object does not exist, cannot be loaded due to missing permission or reviewable feature, or does not support this operation. This endpoint requires the 'pages_read_engagement' permission or the 'Page Public Content Access' feature or the 'Page Public Metadata Access' feature. Refer to https://developers.facebook.com/docs/apps/review/login-permissions#manage-pages, https://developers.facebook.com/docs/apps/review/feature#reference-PAGES_ACCESS and https://developers.facebook.com/docs/apps/review/feature#page-public-metadata-access for details."
     ]
    }
   ],
   "metadata": {}
  },
  {
   "cell_type": "markdown",
   "source": [
    "<div class=\"_1dwg _1w_m _q7o\" data-visualcompletion=\"ignore-dynamic\"><div></div><div class=\"_4r_y\"><div class=\"_1wbl\" id=\"u_0_15_2Y\"></div></div><div><div class=\"l_c3pyo2v0u _5eit i_c3pynyi2f clearfix\"><div class=\"clearfix y_c3pyo2ta3\"><div class=\"_5pb8 o_c3pynyi2g _8o _8s lfloat _ohe\"><a ajaxify=\"/stories/view/async/?card_id=2278706868932811&amp;story_id=1528979053891997&amp;auto_open_viewersheet=0&amp;story_action_source=post_header_actor_photo&amp;__xts__%5B0%5D=68.ARAUE8mp5lnU5Zt2pD0IFnYgT7YCpRtHCeUOl_t3T32KVqRJgwrq39lswiCljZ2tZBTrWV7-oB8cEyowb_GJ2-xVZCOhKhIvaY5OzeD6Vv3AEE13cQJq6bxIWj9H89vN6jT7FbNtlJe0iAbKy8GjTLCDr-w9CQaSBV3z61Jbv2L6nFuT7tvN4CJ9tgFDyItl4zAEosGStWh-NKU8Ei-wX1zYyxCtshAkNpqxux7GwcXXeWP6-ZleVypnQjt2eYjvCEabVXZBdVlJUMBvAO8fKSksTwyZtDjP8RY00O46NfzyvAB8FWac85xYhsEhhMs&amp;__tn__=-R\" href=\"#\" rel=\"async-post\" aria-label=\"Lire les stories non vues\" role=\"button\" id=\"u_0_2e_8j\"><div class=\"_38vo\"><!-- react-mount-point-unstable --><div><img class=\"_s0 _4ooo _6y97 _6_ut _5xib _5sq7 _44ma _rw img\" src=\"https://scontent.ffez1-2.fna.fbcdn.net/v/t1.6435-1/cp0/p50x50/186560006_2206829349453897_7928367716174785710_n.jpg?_nc_cat=1&amp;ccb=1-4&amp;_nc_sid=dbb9e7&amp;_nc_ohc=mFF4AfTLwtcAX-PIi0M&amp;_nc_ht=scontent.ffez1-2.fna&amp;oh=a0f80f8247b05ffda33908dc9a350e3f&amp;oe=613B13B4\" alt=\"\" aria-label=\"سعد الدين العثماني Saad dine El otmani\" role=\"img\"></div></div></a></div><div class=\"clearfix _42ef\"><div class=\"rfloat _ohf\"></div><div class=\"u_c3pyo2ta4\"><div><div class=\"_6a _5u5j\"><div class=\"_6a _6b\" style=\"height:40px\"></div><div class=\"_6a _5u5j _6b\"><h6 class=\"_7tae _14f3 _14f5 _5pbw _5vra\" data-ft=\"{&quot;tn&quot;:&quot;C&quot;}\" id=\"js_c\"><span class=\"fwn fcg\"><span class=\"fwb fcg\" data-ft=\"{&quot;tn&quot;:&quot;k&quot;}\"><a dir=\"rtl\" href=\"https://www.facebook.com/Elotmanisaad/?hc_ref=ART3he0JDGMGZPWnjRXR00zfWk5Han9otz2t1O4yjdg0X2KDmutdLUhzg169vLsIst4&amp;fref=nf&amp;__xts__%5B0%5D=68.ARAUE8mp5lnU5Zt2pD0IFnYgT7YCpRtHCeUOl_t3T32KVqRJgwrq39lswiCljZ2tZBTrWV7-oB8cEyowb_GJ2-xVZCOhKhIvaY5OzeD6Vv3AEE13cQJq6bxIWj9H89vN6jT7FbNtlJe0iAbKy8GjTLCDr-w9CQaSBV3z61Jbv2L6nFuT7tvN4CJ9tgFDyItl4zAEosGStWh-NKU8Ei-wX1zYyxCtshAkNpqxux7GwcXXeWP6-ZleVypnQjt2eYjvCEabVXZBdVlJUMBvAO8fKSksTwyZtDjP8RY00O46NfzyvAB8FWac85xYhsEhhMs&amp;__tn__=kC-R\">سعد الدين العثماني Saad dine El otmani</a><a href=\"https://www.facebook.com/Elotmanisaad/?hc_ref=ART3he0JDGMGZPWnjRXR00zfWk5Han9otz2t1O4yjdg0X2KDmutdLUhzg169vLsIst4&amp;fref=nf&amp;__xts__%5B0%5D=68.ARAUE8mp5lnU5Zt2pD0IFnYgT7YCpRtHCeUOl_t3T32KVqRJgwrq39lswiCljZ2tZBTrWV7-oB8cEyowb_GJ2-xVZCOhKhIvaY5OzeD6Vv3AEE13cQJq6bxIWj9H89vN6jT7FbNtlJe0iAbKy8GjTLCDr-w9CQaSBV3z61Jbv2L6nFuT7tvN4CJ9tgFDyItl4zAEosGStWh-NKU8Ei-wX1zYyxCtshAkNpqxux7GwcXXeWP6-ZleVypnQjt2eYjvCEabVXZBdVlJUMBvAO8fKSksTwyZtDjP8RY00O46NfzyvAB8FWac85xYhsEhhMs&amp;__tn__=kC-R\"><span data-hover=\"tooltip\" data-tooltip-position=\"right\" class=\"_56_f _5dzy _5dz- _3twv\" aria-label=\"Page vérifiée\" id=\"u_0_1t_hE\"></span></a></span></span></h6><div class=\"_5pcp _5lel _2jyu _232_\" id=\"feed_subtitle_205946022875583:7733070186482868673\" data-testid=\"story-subtitle\"><span class=\"z_c3pyo1brp\"><span class=\"fsm fwn fcg\"><a href=\"https://www.facebook.com/Elotmanisaad/videos/1040924823317939/?__xts__%5B0%5D=68.ARAUE8mp5lnU5Zt2pD0IFnYgT7YCpRtHCeUOl_t3T32KVqRJgwrq39lswiCljZ2tZBTrWV7-oB8cEyowb_GJ2-xVZCOhKhIvaY5OzeD6Vv3AEE13cQJq6bxIWj9H89vN6jT7FbNtlJe0iAbKy8GjTLCDr-w9CQaSBV3z61Jbv2L6nFuT7tvN4CJ9tgFDyItl4zAEosGStWh-NKU8Ei-wX1zYyxCtshAkNpqxux7GwcXXeWP6-ZleVypnQjt2eYjvCEabVXZBdVlJUMBvAO8fKSksTwyZtDjP8RY00O46NfzyvAB8FWac85xYhsEhhMs&amp;__tn__=-R\" aria-label=\"Vidéo, , 10 août 2021, Durée&nbsp;: 1 minute, 7 secondes\" data-video-channel-id=\"205946022875583\" data-channel-caller=\"channel_view_from_page_timeline\" ajaxify=\"?__xts__%5B0%5D=68.ARAUE8mp5lnU5Zt2pD0IFnYgT7YCpRtHCeUOl_t3T32KVqRJgwrq39lswiCljZ2tZBTrWV7-oB8cEyowb_GJ2-xVZCOhKhIvaY5OzeD6Vv3AEE13cQJq6bxIWj9H89vN6jT7FbNtlJe0iAbKy8GjTLCDr-w9CQaSBV3z61Jbv2L6nFuT7tvN4CJ9tgFDyItl4zAEosGStWh-NKU8Ei-wX1zYyxCtshAkNpqxux7GwcXXeWP6-ZleVypnQjt2eYjvCEabVXZBdVlJUMBvAO8fKSksTwyZtDjP8RY00O46NfzyvAB8FWac85xYhsEhhMs&amp;__tn__=-R#\" rel=\"async\" class=\"async_saving _400z _2-40 _5pcq\" target=\"\" data-onclick=\"[{&quot;mod&quot;:&quot;TahoeController&quot;,&quot;meth&quot;:&quot;openFromVideoLinkHelper&quot;,&quot;a&quot;:[{&quot;__elem&quot;:1},&quot;page_timeline&quot;,&quot;unknown&quot;,null,36]}]\"><abbr data-utime=\"1628629828\" title=\"Mardi 10 août 2021, 14:10\" data-shorten=\"1\" class=\"_5ptz\"><span class=\"timestampContent\" id=\"js_d\">Hier, à 14:10</span></abbr></a></span></span><span class=\"_6spk\" role=\"presentation\" aria-hidden=\"true\"> · </span><div class=\"_6a _29ee _4f-9 _43_1\" data-hover=\"tooltip\" data-tooltip-content=\"Partagé avec&nbsp;: Public\" role=\"img\" aria-label=\"Partagé avec&nbsp;: Public\"><span><i class=\"_1lbg img sp_a5D_Ltik92H sx_0bbae9\"></i></span></div></div></div></div></div></div></div></div></div><div data-testid=\"post_message\" class=\"_5pbx userContent _3576\" data-ft=\"{&quot;tn&quot;:&quot;K&quot;}\" id=\"js_e\"><div dir=\"rtl\" class=\"_5wj-\"><p>تفاعلاً مع تساؤلاتكم حول تشديد بعض الإجراءات الاحترازية التي تم إقرارها مؤخراً..</p></div></div><div class=\"_3x-2\" data-ft=\"{&quot;tn&quot;:&quot;H&quot;}\"><div data-ft=\"{&quot;tn&quot;:&quot;H&quot;}\"><div class=\"mtm\"><div id=\"u_0_16_C/\" class=\"_6m2 _1zpr clearfix _dcs _4_w4 _6m8 _59ap _64lx _3eqz _20pq _3eqw _2rk1 _3n1j _5qqr\" data-ft=\"{&quot;tn&quot;:&quot;H&quot;}\"><div class=\"clearfix _2r3x\"><div class=\"lfloat _ohe\"><span class=\"_3m6-\"><div class=\"_150c\" data-ft=\"{&quot;tn&quot;:&quot;F&quot;}\"><img class=\"_3chq\" src=\"https://scontent.ffez1-2.fna.fbcdn.net/v/t15.5256-10/221226478_1040925226651232_3520904915246489681_n.jpg?_nc_cat=1&amp;ccb=1-4&amp;_nc_sid=f2c4d5&amp;_nc_ohc=8A8CLBLNtU8AX9LqhjD&amp;_nc_ht=scontent.ffez1-2.fna&amp;oh=90f844a485d3c8adc049a1df35f5ecad&amp;oe=611932C7\"><div class=\"_5mly _40ja _45oh\" id=\"u_0_1y_X4\"><div class=\"_5v-_ _zpr\" id=\"u_0_1z_iP\"><div class=\"_1c_u _45oh\" id=\"u_0_20_02\"><div class=\"_53j5\" style=\"height:474px;width:474px;\" tabindex=\"0\" id=\"u_0_21_uM\"><video height=\"474\" width=\"474\" preload=\"auto\" style=\"display: block;\" class=\"_ox1 _21y0\" data-video-width=\"474\" data-video-height=\"474\" data-original-aspect-ratio=\"1\" id=\"u_0_22_OK\" src=\"blob:https://www.facebook.com/01f2c516-1d41-4962-8eb9-0f2d07720c71\"></video><div class=\"_4lpe _3htz\"><img class=\"_4lpf\" src=\"https://scontent.ffez1-2.fna.fbcdn.net/v/t15.5256-10/221226478_1040925226651232_3520904915246489681_n.jpg?_nc_cat=1&amp;ccb=1-4&amp;_nc_sid=f2c4d5&amp;_nc_ohc=8A8CLBLNtU8AX9LqhjD&amp;_nc_ht=scontent.ffez1-2.fna&amp;oh=90f844a485d3c8adc049a1df35f5ecad&amp;oe=611932C7\"></div><div class=\"_m54 _1jto _3htz\" id=\"u_0_23_oS\"><img class=\"_1445 _4ndd img\" src=\"https://static.xx.fbcdn.net/rsrc.php/v3/y4/r/-PAXP-deijE.gif\" alt=\"\" style=\"background-image: url('https\\3a //scontent.ffez1-2.fna.fbcdn.net/v/t15.5256-10/p480x480/221226478_1040925226651232_3520904915246489681_n.jpg?_nc_cat\\3d 1\\26 ccb\\3d 1-4\\26 _nc_sid\\3d 08861d\\26 _nc_ohc\\3d 8A8CLBLNtU8AX9LqhjD\\26 _nc_ht\\3d scontent.ffez1-2.fna\\26 oh\\3d c016f2047326de6953c7f7ad867556c3\\26 oe\\3d 6119161F');\" id=\"u_0_24_Fg\"></div><div class=\"_4ubd _170l _27db _3htz\" id=\"u_0_25_lW\"><div class=\"_2w_u\"><div class=\"_w80 _2oy-\"></div><div class=\"_1otk _3t1r _4ubd\"><div class=\"_2w_w\"><div class=\"_1c7d _2oy-\"><div class=\"_1c7f _1c7g\"><button data-tooltip-content=\"Lire\" data-hover=\"tooltip\" data-tooltip-position=\"above\" class=\"_zbd _2sm1 _42ft\" tabindex=\"0\" type=\"button\"><i alt=\"\" class=\"_rwt img sp_jbZZyoGLkJi sx_a6ea94\" data-visualcompletion=\"css-img\"></i><span class=\"accessible_elem\">Lire</span></button></div><div class=\"_1c7f _2pvx\"><div><div class=\"_2yu5\"><div tabindex=\"0\" role=\"slider\" aria-orientation=\"horizontal\" aria-valuemin=\"0\" aria-valuemax=\"66.2\" aria-valuenow=\"0\" aria-valuetext=\"Current position is 0%\" class=\"_2yu7\"><div class=\"_2yu8\" style=\"width: 0%;\"></div><div class=\"_2yu9\" style=\"width: 0%;\"><div class=\"_2yua _4sxb\"></div></div><div></div><div class=\"_80rf\"></div></div></div></div></div><div class=\"_1c7f _1c7h\"><div class=\"_5qsr _66_y _66_z\" playbackdurationtimestamp=\"66.2\" tabindex=\"0\" role=\"button\">-1:06</div><div class=\"_2swo\"><div class=\"_3pao\"><div class=\"_4sxa\"><div class=\"_3paq\"><div class=\"_3par\" style=\"height: 100%;\"><div class=\"_3pas _4sxb\"></div></div></div></div><div class=\"_3pat\"></div></div><button class=\"_zbd _1agg _42ft\" tabindex=\"0\" type=\"button\"><div alt=\"\" class=\"_1age\"><div class=\"_1agf\"><i class=\"_rwt img sp_jbZZyoGLkJi sx_235a1b\" alt=\"\" data-visualcompletion=\"css-img\"></i></div></div><span class=\"accessible_elem\">Couper le son</span></button></div><div class=\"_2j04\" data-ft=\"{&quot;tn&quot;:&quot;,k&quot;}\"><div data-tooltip-content=\"Paramètres\" data-hover=\"tooltip\" data-tooltip-position=\"above\"><button class=\"_zbd _42ft\" tabindex=\"0\" type=\"button\"><i alt=\"\" class=\"_rwt img sp_0NdG_got10s sx_103dcb\" data-visualcompletion=\"css-img\"></i><span class=\"accessible_elem\">Paramètres visuels supplémentaires</span></button></div></div><button data-tooltip-content=\"Cliquez pour agrandir\" data-hover=\"tooltip\" data-tooltip-position=\"above\" class=\"_zbd _400z _1vek _42ft\" tabindex=\"0\" type=\"submit\" value=\"1\"><i alt=\"\" class=\"_rwt img sp_jbZZyoGLkJi sx_2cbc19\" data-visualcompletion=\"css-img\"></i><span class=\"accessible_elem\">Cliquez pour agrandir</span></button><div class=\"_2j04\"><button class=\"_zbd _42ft\" tabindex=\"0\" type=\"button\" data-tooltip-content=\"Options\" data-hover=\"tooltip\" data-tooltip-position=\"above\"><i alt=\"\" class=\"_rwt img sp_0NdG_got10s sx_d66f33\" data-visualcompletion=\"css-img\"></i><span class=\"accessible_elem\">Options de partage et de rapports</span></button></div></div><div class=\"_1c7f _w7o _2oy-\"></div></div></div></div></div></div><div class=\"_npo hidden_elem _3htz\" id=\"u_0_26_fe\"><div class=\"_3drf\"></div><div class=\"_3x62\"><div class=\"_63rn\"><div class=\"_63rm\"><div class=\"_iij\">Vous semblez rencontrer des problèmes pour lire cette vidéo.  Si c’est le cas, essayez de redémarrer votre navigateur</div><div class=\"_iir\">Fermer</div></div></div></div></div><div class=\"_567v _3bw _4ubd _28dy _3htz\" id=\"u_0_27_io\"><div class=\"_567_\"><div class=\"_2za- _2vd- uiContextualLayerParent _28dz\" data-ft=\"{&quot;tn&quot;:&quot;k&quot;}\" id=\"u_0_28_Km\"><div class=\"_1vx9\">Publié par ‎<a class=\"_2za_ _5p5v\" href=\"/watch/Elotmanisaad/?__xts__%5B0%5D=68.ARAUE8mp5lnU5Zt2pD0IFnYgT7YCpRtHCeUOl_t3T32KVqRJgwrq39lswiCljZ2tZBTrWV7-oB8cEyowb_GJ2-xVZCOhKhIvaY5OzeD6Vv3AEE13cQJq6bxIWj9H89vN6jT7FbNtlJe0iAbKy8GjTLCDr-w9CQaSBV3z61Jbv2L6nFuT7tvN4CJ9tgFDyItl4zAEosGStWh-NKU8Ei-wX1zYyxCtshAkNpqxux7GwcXXeWP6-ZleVypnQjt2eYjvCEabVXZBdVlJUMBvAO8fKSksTwyZtDjP8RY00O46NfzyvAB8FWac85xYhsEhhMs&amp;__tn__=kFFHHH-R\"><span class=\"_50f7\">سعد الدين العثماني Saad dine El otmani</span></a>‎</div><div class=\"_1vx9\"><span>338&nbsp;807 vues</span></div></div></div><div class=\"_5bke\" id=\"u_0_29_1+\"></div></div><i class=\"_1jto _bsl _4ubd _3htz\" id=\"u_0_17_YF\"><input aria-label=\"Lire la vidéo\" type=\"button\" class=\"accessible_elem _5f0v\" id=\"u_0_2a_P4\"></i><span class=\"img _55ym _55yq _55yo _167h _4ubd _1hiu hidden_elem _360f _167h _3htz\" aria-busy=\"true\" role=\"progressbar\" aria-valuemin=\"0\" aria-valuemax=\"100\" aria-valuetext=\"Chargement...\" id=\"u_0_18_gg\"></span><div class=\"_3htz _4ubd _1zmi\" id=\"u_0_2b_vC\"></div><div class=\"_4ivm\" id=\"u_0_2c_mv\"></div></div><div class=\"_2i84\"><div id=\"u_0_2d_VU\"></div></div></div></div></div></div><div data-ft=\"{&quot;tn&quot;:&quot;H&quot;}\" class=\"_3ekx _29_4\"></div></span></div><div class=\"_42ef\"><span class=\"_3c21\"></span></div></div></div></div></div></div><div></div></div></div>"
   ],
   "metadata": {}
  }
 ],
 "metadata": {
  "orig_nbformat": 4,
  "language_info": {
   "name": "python",
   "version": "3.8.8",
   "mimetype": "text/x-python",
   "codemirror_mode": {
    "name": "ipython",
    "version": 3
   },
   "pygments_lexer": "ipython3",
   "nbconvert_exporter": "python",
   "file_extension": ".py"
  },
  "kernelspec": {
   "name": "python3",
   "display_name": "Python 3.8.8 64-bit ('base': conda)"
  },
  "interpreter": {
   "hash": "184aa201dc4fa3afe5df2ab71f75732ba4c0e7618a1d5df1129f5ce704f98945"
  }
 },
 "nbformat": 4,
 "nbformat_minor": 2
}